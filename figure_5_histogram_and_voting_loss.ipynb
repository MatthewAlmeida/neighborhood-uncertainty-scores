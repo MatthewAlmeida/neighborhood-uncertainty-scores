{
 "cells": [
  {
   "cell_type": "code",
   "execution_count": 1,
   "metadata": {},
   "outputs": [],
   "source": [
    "import load_data\n",
    "import matplotlib.pyplot as plt\n",
    "import numpy as np\n",
    "import pandas as pd"
   ]
  },
  {
   "cell_type": "code",
   "execution_count": 21,
   "metadata": {},
   "outputs": [],
   "source": [
    "from pathlib import Path\n",
    "from tensorflow.keras.models import load_model\n",
    "from sklearn.metrics import classification_report, confusion_matrix\n",
    "from scipy.stats import mode\n",
    "import seaborn as sns"
   ]
  },
  {
   "cell_type": "code",
   "execution_count": 3,
   "metadata": {},
   "outputs": [],
   "source": [
    "_root_folder = \"/tf/workspace/FMA/\"\n",
    "_feature_csv_path = Path(f\"{_root_folder}fma_metadata/features_single_header.csv\")\n",
    "_genre_csv_path = Path(f\"{_root_folder}fma_metadata/genres.csv\")\n",
    "_distance_matrix_filename=Path(f\"{_root_folder}distances/distance_matrix.npy\")\n",
    "_meta_filename = Path(f\"{_root_folder}fma_metadata/tracks_small.csv\")\n",
    "\n",
    "_model_filename = f\"./saved_models/1cycle01-best.h5\""
   ]
  },
  {
   "cell_type": "code",
   "execution_count": 4,
   "metadata": {},
   "outputs": [],
   "source": [
    "scaling=\"standard\""
   ]
  },
  {
   "cell_type": "code",
   "execution_count": null,
   "metadata": {},
   "outputs": [],
   "source": []
  },
  {
   "cell_type": "code",
   "execution_count": 5,
   "metadata": {},
   "outputs": [],
   "source": [
    "def get_voting_predictions(\n",
    "    model, X, y, \n",
    "    samples_per_song\n",
    "):\n",
    "    probabilites = model.predict(X, verbose=0)\n",
    "\n",
    "    y_true = np.argmax(y, axis=1)\n",
    "    y_pred = probabilites.argmax(axis=1)\n",
    "\n",
    "    predictions_per_song = y_pred.reshape((-1, samples_per_song))\n",
    "\n",
    "    y_true_song = y_true[::samples_per_song]\n",
    "    y_pred_song = np.zeros_like(y_true_song, dtype=int)\n",
    "\n",
    "    for i, _ in enumerate(y_pred_song):\n",
    "        y_pred_song[i] = mode(predictions_per_song[i])[0][0]\n",
    "\n",
    "    return y_true_song, y_pred_song"
   ]
  },
  {
   "cell_type": "code",
   "execution_count": 6,
   "metadata": {},
   "outputs": [],
   "source": [
    "def get_overall_predictions(\n",
    "    model, X, y\n",
    "):\n",
    "    probabilites = model.predict(X, verbose=0)\n",
    "\n",
    "    y_true = np.argmax(y, axis=1)\n",
    "    y_pred = probabilites.argmax(axis=1)\n",
    "\n",
    "    return y_true, y_pred"
   ]
  },
  {
   "cell_type": "code",
   "execution_count": 7,
   "metadata": {},
   "outputs": [],
   "source": [
    "examples_per_song = 39"
   ]
  },
  {
   "cell_type": "code",
   "execution_count": 8,
   "metadata": {},
   "outputs": [
    {
     "name": "stdout",
     "output_type": "stream",
     "text": [
      "Loading data from tensor stored at: /tf/workspace/FMA/tensors/all_data_tensor_power_db_0-5_stride.npy\n"
     ]
    },
    {
     "name": "stderr",
     "output_type": "stream",
     "text": [
      "/tf/workspace/matthew.almeida001/NBScoringDensenet/score_calculation/border_scores.py:81: RuntimeWarning: divide by zero encountered in true_divide\n",
      "  np.min(np.abs(distances_to_neighborhood_points), axis=1)[:, np.newaxis]\n",
      "/tf/workspace/matthew.almeida001/NBScoringDensenet/score_calculation/border_scores.py:81: RuntimeWarning: invalid value encountered in true_divide\n",
      "  np.min(np.abs(distances_to_neighborhood_points), axis=1)[:, np.newaxis]\n",
      "/tf/workspace/matthew.almeida001/NBScoringDensenet/score_calculation/border_scores.py:104: RuntimeWarning: divide by zero encountered in log2\n",
      "  log_prob_class_c = np.where(prob_class_c > 0, np.log2(prob_class_c), 0)\n",
      "/tf/workspace/matthew.almeida001/NBScoringDensenet/score_calculation/border_scores.py:120: RuntimeWarning: invalid value encountered in true_divide\n",
      "  count_of_neighbors_of_class_c\n",
      "/tf/workspace/matthew.almeida001/NBScoringDensenet/score_calculation/border_scores.py:125: RuntimeWarning: divide by zero encountered in true_divide\n",
      "  avg_inv = np.divide(np.ones_like(avg_distance_to_class_c), avg_distance_to_class_c)\n",
      "/tf/workspace/matthew.almeida001/NBScoringDensenet/score_calculation/border_scores.py:168: RuntimeWarning: invalid value encountered in true_divide\n",
      "  np.divide(numerator, denominator),\n"
     ]
    }
   ],
   "source": [
    "(\n",
    "    X_train, X_eval, y_train, y_eval, sample_weights\n",
    ") = load_data.get_densenet_samples(scale=scaling, remove_nan=False, data=\"big\", calc_scores=True)"
   ]
  },
  {
   "cell_type": "code",
   "execution_count": 9,
   "metadata": {},
   "outputs": [
    {
     "data": {
      "text/plain": [
       "249599.99999999997"
      ]
     },
     "execution_count": 9,
     "metadata": {},
     "output_type": "execute_result"
    }
   ],
   "source": [
    "np.sum(sample_weights)"
   ]
  },
  {
   "cell_type": "code",
   "execution_count": 10,
   "metadata": {},
   "outputs": [
    {
     "data": {
      "text/plain": [
       "249600"
      ]
     },
     "execution_count": 10,
     "metadata": {},
     "output_type": "execute_result"
    }
   ],
   "source": [
    "len(X_train)"
   ]
  },
  {
   "cell_type": "code",
   "execution_count": 11,
   "metadata": {},
   "outputs": [
    {
     "data": {
      "text/plain": [
       "[<matplotlib.lines.Line2D at 0x7f5159d8ee10>]"
      ]
     },
     "execution_count": 11,
     "metadata": {},
     "output_type": "execute_result"
    },
    {
     "data": {
      "image/png": "[encoded data removed]",
      "text/plain": [
       "<Figure size 432x288 with 1 Axes>"
      ]
     },
     "metadata": {
      "needs_background": "light"
     },
     "output_type": "display_data"
    }
   ],
   "source": [
    "plt.plot(np.sort(sample_weights))"
   ]
  },
  {
   "cell_type": "code",
   "execution_count": 28,
   "metadata": {},
   "outputs": [
    {
     "data": {
      "text/plain": [
       "<matplotlib.axes._subplots.AxesSubplot at 0x7f5158bf0cf8>"
      ]
     },
     "execution_count": 28,
     "metadata": {},
     "output_type": "execute_result"
    },
    {
     "data": {
      "image/png": "[encoded data removed]",
      "text/plain": [
       "<Figure size 340.157x507.969 with 1 Axes>"
      ]
     },
     "metadata": {
      "needs_background": "light"
     },
     "output_type": "display_data"
    }
   ],
   "source": [
    "# inches width 1.1811\n",
    "# inches height 1.76378\n",
    "\n",
    "plt.figure(figsize=(1.1811*4,1.76378*4))\n",
    "sns.distplot(sample_weights, bins=20)"
   ]
  }
 ],
 "metadata": {
  "kernelspec": {
   "display_name": "Python 3",
   "language": "python",
   "name": "python3"
  },
  "language_info": {
   "codemirror_mode": {
    "name": "ipython",
    "version": 3
   },
   "file_extension": ".py",
   "mimetype": "text/x-python",
   "name": "python",
   "nbconvert_exporter": "python",
   "pygments_lexer": "ipython3",
   "version": "3.6.8"
  }
 },
 "nbformat": 4,
 "nbformat_minor": 2
}