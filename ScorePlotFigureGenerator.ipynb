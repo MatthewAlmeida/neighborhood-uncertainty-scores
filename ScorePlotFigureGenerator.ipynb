{
 "cells": [
  {
   "cell_type": "code",
   "execution_count": 1,
   "metadata": {},
   "outputs": [],
   "source": [
    "%matplotlib inline "
   ]
  },
  {
   "cell_type": "code",
   "execution_count": null,
   "metadata": {},
   "outputs": [],
   "source": [
    "\"\"\"\n",
    "Use this notebook to calculate some simple 2D score plots like those in the paper. Distance normalization should be applied carefully; using different combinations of accounting for distance (normalization) can make a big difference in certain distributions of points, depending on label composition and pairwise distances. You can use use_denominator_distance and normalize_distance to remove different terms from the score calculation formula to see how those affect the scaling of the scores.\n",
    "\"\"\""
   ]
  },
  {
   "cell_type": "code",
   "execution_count": 2,
   "metadata": {},
   "outputs": [],
   "source": [
    "import matplotlib\n",
    "import matplotlib.pyplot as plt\n",
    "\n",
    "import numpy as np\n",
    "from sklearn.metrics import pairwise_distances"
   ]
  },
  {
   "cell_type": "code",
   "execution_count": 3,
   "metadata": {},
   "outputs": [],
   "source": [
    "from score_calculation.border_scores import get_border_scores_precomputed_distance"
   ]
  },
  {
   "cell_type": "code",
   "execution_count": 4,
   "metadata": {},
   "outputs": [],
   "source": [
    "def Generate_and_Split(examples_by_class, x_means, y_means,\n",
    "                x_spreads, y_spreads, test_set_proportion=.1):\n",
    "\n",
    "    lb = LabelBinarizer()\n",
    "\n",
    "    X, y_flat = generate_dataset(examples_by_class, \n",
    "                    x_means, y_means, x_spreads, y_spreads)\n",
    "    y = lb.fit_transform(y_flat)\n",
    "\n",
    "    perm = np.random.permutation(X.shape[0])\n",
    "\n",
    "    X = X[perm]\n",
    "    y = y[perm]\n",
    "    y_flat = y_flat[perm]\n",
    "                    \n",
    "    ts = int(math.floor(X.shape[0] * test_set_proportion))\n",
    "    \n",
    "    X_train = X[0:-1*(ts)]\n",
    "    y_train = y[0:-1*(ts)]\n",
    "    y_flat_train = y_flat[0:-1*(ts)]\n",
    "    \n",
    "    X_test = X[-1*ts:]\n",
    "    y_test = y[-1*ts:]\n",
    "    y_flat_test = y_flat[-1*ts:]\n",
    "\n",
    "    return (X_train, y_train, y_flat_train,\n",
    "            X_test, y_test, y_flat_test)"
   ]
  },
  {
   "cell_type": "code",
   "execution_count": 5,
   "metadata": {},
   "outputs": [],
   "source": [
    "def generate_dataset(examples_by_class, x_means, y_means, x_spreads, y_spreads):\n",
    "    X = []\n",
    "    y = []\n",
    "\n",
    "    for c in range(len(examples_by_class)):\n",
    "            \n",
    "        for i in range(examples_by_class[c]):\n",
    "            x1 = np.random.normal(loc=x_means[c],scale=x_spreads[c])\n",
    "            x2 = np.random.normal(loc=y_means[c],scale=y_spreads[c])\n",
    "            \n",
    "            X.append([x1,x2])\n",
    "            y.append(c)\n",
    "    \n",
    "    X=np.array(X)\n",
    "    y=np.array(y)\n",
    "    \n",
    "    return X, y"
   ]
  },
  {
   "cell_type": "code",
   "execution_count": 6,
   "metadata": {},
   "outputs": [],
   "source": [
    "examples_by_class = [10,10,4]\n",
    "x_means = [-1,1,0]\n",
    "y_means = [1,1,-1]\n",
    "x_spreads = [0.75,0.75,1.0]\n",
    "y_spreads = [0.75,0.5,0.75]"
   ]
  },
  {
   "cell_type": "code",
   "execution_count": 27,
   "metadata": {},
   "outputs": [],
   "source": [
    "def make_plot(X, y, intrts, threshold=0.75, xmin=-3, xmax=3, ymin=-2, ymax=3):\n",
    "\n",
    "    min_dot_size = 40\n",
    "\n",
    "    s = np.ones(len(X))\n",
    "    s *= min_dot_size\n",
    "    s = s + 80 * intrts\n",
    "\n",
    "    markers = [\"^\",\"o\",\"+\"]\n",
    "    colors = [\"red\",\"green\",\"blue\"]\n",
    "\n",
    "    f, ax1 = plt.subplots(1, figsize=(5,4), dpi=80, sharex=True, sharey=True)\n",
    "    f.tight_layout(rect=[0, 0.03, 1, 0.95])\n",
    "\n",
    "    ax1.set_xlim([xmin,xmax])\n",
    "    ax1.set_ylim([ymin,ymax])\n",
    "\n",
    "    ticklines = ax1.get_xticklines() + ax1.get_yticklines()\n",
    "    gridlines = ax1.get_xgridlines() + ax1.get_ygridlines()\n",
    "\n",
    "    for line in gridlines:\n",
    "        line.set_linestyle('-.')\n",
    "\n",
    "    for line in ticklines:\n",
    "        line.set_linewidth(3)\n",
    "\n",
    "    classes = np.unique(y)\n",
    "\n",
    "    for j in classes:\n",
    "        class_j = y == j\n",
    "        ax1.scatter(X[class_j][:,0], \n",
    "            X[class_j][:,1],\n",
    "            c=colors[j],\n",
    "            s=s[class_j],\n",
    "            marker=markers[j])\n",
    "\n",
    "    for i, bs in enumerate(intrts):\n",
    "        bs = float(format(bs, '.2f'))\n",
    "        if bs > threshold:\n",
    "            ax1.annotate(bs, (X[i][0] + 0.05, X[i][1] + 0.05), size=12)\n",
    "\n",
    "    start, end = ax1.get_xlim()\n",
    "    ax1.xaxis.set_ticks(np.arange(start, end, 1))\n",
    "    \n",
    "def plot_wrapper(X,y,k, \n",
    "                 use_numerator_distance=True, \n",
    "                 use_denominator_distance=True,\n",
    "                 normalize_distance=True,\n",
    "                 threshold=0.75, \n",
    "                 xmin=-3, xmax=3, ymin=-2, ymax=3\n",
    "                ):\n",
    "    D = pairwise_distances(X, metric=\"euclidean\")\n",
    "    bs = get_border_scores_precomputed_distance(y, D, k, use_numerator_distance=use_numerator_distance, \n",
    "                 use_denominator_distance=use_denominator_distance, normalize_distance=normalize_distance)\n",
    "    \n",
    "    make_plot(X, y, bs, threshold=threshold,xmin=xmin,xmax=xmax,ymin=ymin,ymax=ymax)"
   ]
  },
  {
   "cell_type": "code",
   "execution_count": 64,
   "metadata": {},
   "outputs": [
    {
     "name": "stderr",
     "output_type": "stream",
     "text": [
      "/data/matthew.almeida001/TKDDNBScore/notebooks/border_scores_n_class_fix.py:104: RuntimeWarning: divide by zero encountered in log2\n",
      "  log_prob_class_c = np.where(prob_class_c > 0, np.log2(prob_class_c), 0)\n",
      "/data/matthew.almeida001/TKDDNBScore/notebooks/border_scores_n_class_fix.py:120: RuntimeWarning: invalid value encountered in true_divide\n",
      "  count_of_neighbors_of_class_c\n",
      "/data/matthew.almeida001/TKDDNBScore/notebooks/border_scores_n_class_fix.py:125: RuntimeWarning: divide by zero encountered in true_divide\n",
      "  avg_inv = np.divide(np.ones_like(avg_distance_to_class_c), avg_distance_to_class_c)\n",
      "/data/matthew.almeida001/TKDDNBScore/notebooks/border_scores_n_class_fix.py:168: RuntimeWarning: invalid value encountered in true_divide\n",
      "  np.divide(numerator, denominator),\n"
     ]
    },
    {
     "data": {
      "image/png": "[encoded data removed]",
      "text/plain": [
       "<Figure size 400x320 with 1 Axes>"
      ]
     },
     "metadata": {
      "needs_background": "light"
     },
     "output_type": "display_data"
    }
   ],
   "source": [
    "k=5\n",
    "\n",
    "X = np.array([\n",
    "    [0,0],\n",
    "    [-0.7,-0.5],\n",
    "    [-1.0, 1.0],\n",
    "    [0.9,0.7],\n",
    "    [0.7,-0.9],\n",
    "])\n",
    "\n",
    "y = np.array([\n",
    "      1,1,1,1,1\n",
    "])\n",
    "\n",
    "plot_wrapper(X, y, k, threshold=-0.1)"
   ]
  },
  {
   "cell_type": "code",
   "execution_count": 14,
   "metadata": {},
   "outputs": [
    {
     "name": "stderr",
     "output_type": "stream",
     "text": [
      "/data/matthew.almeida001/TKDDNBScore/notebooks/border_scores_n_class_fix.py:125: RuntimeWarning: divide by zero encountered in true_divide\n",
      "  avg_inv = np.divide(np.ones_like(avg_distance_to_class_c), avg_distance_to_class_c)\n"
     ]
    },
    {
     "data": {
      "image/png": "[encoded data removed]",
      "text/plain": [
       "<Figure size 400x320 with 1 Axes>"
      ]
     },
     "metadata": {
      "needs_background": "light"
     },
     "output_type": "display_data"
    }
   ],
   "source": [
    "k=5\n",
    "\n",
    "\n",
    "X = np.array([\n",
    "    [0,0],\n",
    "    [-0.7,-0.5],\n",
    "    [-1.0, 1.0],\n",
    "    [0.9,0.7],\n",
    "    [0.7,-0.9],\n",
    "])\n",
    "\n",
    "y = np.array([\n",
    "      0,1,1,1,1\n",
    "])\n",
    "\n",
    "D = pairwise_distances(X, metric=\"euclidean\")\n",
    "bs = get_border_scores_precomputed_distance(y, D, k)\n",
    "intrs = get_interest_values(X,y,k)\n",
    "\n",
    "fucking_plot(X, y, bs, threshold=0.5)"
   ]
  },
  {
   "cell_type": "markdown",
   "metadata": {},
   "source": [
    "(1)  A sample should have score 0 when all k − 1 neighbors are of the same class as the sample.\n",
    "\n",
    "Check. Currently included in paper.\n",
    "\n",
    "(2)  Examples in highly heterogeneous neighborhoods (i.e., neighborhoods with a high number of classes present)\n",
    "should have higher scores than points in homogeneous neighborhoods consisting of mostly their own class, but\n",
    "lower scores than points in homogeneous neighborhoods consisting of points of mostly another class.\n",
    "\n",
    "Check. See example below.\n",
    "\n",
    "(3)  Examples in relatively dense neighborhoods should have higher scores than points in relatively sparse neighborhoods, with label composition held constant.\n",
    "\n"
   ]
  },
  {
   "cell_type": "code",
   "execution_count": 60,
   "metadata": {},
   "outputs": [
    {
     "name": "stderr",
     "output_type": "stream",
     "text": [
      "/data/matthew.almeida001/TKDDNBScore/notebooks/border_scores_n_class_fix.py:125: RuntimeWarning: divide by zero encountered in true_divide\n",
      "  avg_inv = np.divide(np.ones_like(avg_distance_to_class_c), avg_distance_to_class_c)\n"
     ]
    },
    {
     "data": {
      "image/png": "[encoded data removed]",
      "text/plain": [
       "<Figure size 400x320 with 1 Axes>"
      ]
     },
     "metadata": {
      "needs_background": "light"
     },
     "output_type": "display_data"
    }
   ],
   "source": [
    "# Point 2 above.\n",
    "\n",
    "k=6\n",
    "\n",
    "X = np.array([\n",
    "    [0,0],\n",
    "    [-0.7,-0.5],\n",
    "    [-1.0, 1.0],\n",
    "    [0.8,0.6],\n",
    "    [0.9,-0.9],\n",
    "    [0.2,-1.8],\n",
    "    [0,2.0]\n",
    "])\n",
    "\n",
    "\n",
    "y = np.array([\n",
    "     0,1,0,1,0,2,2\n",
    "])\n",
    "\n",
    "plot_wrapper(X, y, k, use_denominator_distance=False, normalize_distance=True, threshold=0.5)"
   ]
  },
  {
   "cell_type": "code",
   "execution_count": 61,
   "metadata": {},
   "outputs": [
    {
     "data": {
      "image/png": "[encoded data removed]",
      "text/plain": [
       "<Figure size 400x320 with 1 Axes>"
      ]
     },
     "metadata": {
      "needs_background": "light"
     },
     "output_type": "display_data"
    }
   ],
   "source": [
    "y = np.array([\n",
    "     0,1,1,1,0,1,1\n",
    "])\n",
    "\n",
    "plot_wrapper(X, y, k, use_denominator_distance=False, normalize_distance=True, threshold=0.5)"
   ]
  },
  {
   "cell_type": "code",
   "execution_count": 58,
   "metadata": {},
   "outputs": [
    {
     "data": {
      "image/png": "[encoded data removed]",
      "text/plain": [
       "<Figure size 400x320 with 1 Axes>"
      ]
     },
     "metadata": {
      "needs_background": "light"
     },
     "output_type": "display_data"
    }
   ],
   "source": [
    "# Point 3 above.\n",
    "\n",
    "k=7\n",
    "a=4\n",
    "\n",
    "X = np.array([\n",
    "    [0,0],\n",
    "    [-0.7,-0.5],\n",
    "    [-1.0, 1.0],\n",
    "    [0.8,0.6],\n",
    "    [0.9,-0.9],\n",
    "    [0.2,-1.5],\n",
    "    [0,1.5]\n",
    "])\n",
    "\n",
    "\n",
    "y = np.array([\n",
    "     0,1,0,1,0,2,2\n",
    "])\n",
    "\n",
    "Z = a*X\n",
    "\n",
    "plot_wrapper(Z, y, k, use_denominator_distance=False, normalize_distance=False, threshold=0.0,\n",
    "            xmin=np.min(Z)-1.0,xmax=np.max(Z)+1.0,ymin=np.min(Z)-1.0,ymax=np.max(Z)+1.0)"
   ]
  },
  {
   "cell_type": "code",
   "execution_count": 59,
   "metadata": {},
   "outputs": [
    {
     "data": {
      "image/png": "[encoded data removed]",
      "text/plain": [
       "<Figure size 400x320 with 1 Axes>"
      ]
     },
     "metadata": {
      "needs_background": "light"
     },
     "output_type": "display_data"
    }
   ],
   "source": [
    "plot_wrapper(X, y, k, use_denominator_distance=False, normalize_distance=False, ymin=-3, threshold=0.0)"
   ]
  },
  {
   "cell_type": "code",
   "execution_count": 41,
   "metadata": {},
   "outputs": [
    {
     "data": {
      "text/plain": [
       "array([1. , 0.3, 0. , 1.8, 1.9, 1.2, 1. ])"
      ]
     },
     "execution_count": 41,
     "metadata": {},
     "output_type": "execute_result"
    }
   ],
   "source": [
    "X[:,0] + 1"
   ]
  },
  {
   "cell_type": "code",
   "execution_count": 29,
   "metadata": {},
   "outputs": [
    {
     "data": {
      "image/png": "[encoded data removed]",
      "text/plain": [
       "<Figure size 400x320 with 1 Axes>"
      ]
     },
     "metadata": {
      "needs_background": "light"
     },
     "output_type": "display_data"
    }
   ],
   "source": [
    "plot_wrapper(Z, y, k, use_denominator_distance=False, normalize_distance=True, threshold=0.0,\n",
    "            xmin=np.min(Z)-1.0,xmax=np.max(Z)+1.0,ymin=np.min(Z)-1.0,ymax=np.max(Z)+1.0)"
   ]
  }
 ],
 "metadata": {
  "kernelspec": {
   "display_name": "Python 3",
   "language": "python",
   "name": "python3"
  },
  "language_info": {
   "codemirror_mode": {
    "name": "ipython",
    "version": 3
   },
   "file_extension": ".py",
   "mimetype": "text/x-python",
   "name": "python",
   "nbconvert_exporter": "python",
   "pygments_lexer": "ipython3",
   "version": "3.7.3"
  }
 },
 "nbformat": 4,
 "nbformat_minor": 2
}